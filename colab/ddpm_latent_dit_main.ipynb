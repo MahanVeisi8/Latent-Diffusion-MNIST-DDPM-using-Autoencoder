{
  "nbformat": 4,
  "nbformat_minor": 0,
  "metadata": {
    "colab": {
      "provenance": [],
      "gpuType": "T4"
    },
    "kernelspec": {
      "name": "python3",
      "display_name": "Python 3"
    },
    "language_info": {
      "name": "python"
    },
    "accelerator": "GPU"
  },
  "cells": [
    {
      "cell_type": "markdown",
      "source": [
        "# Diffusion Mnist"
      ],
      "metadata": {
        "id": "eghI5R7zmk1k"
      }
    },
    {
      "cell_type": "code",
      "execution_count": 1,
      "metadata": {
        "colab": {
          "base_uri": "https://localhost:8080/"
        },
        "id": "7fq0GLGexpWG",
        "outputId": "02b414c6-c1e2-4358-861b-2d01b142f7ee"
      },
      "outputs": [
        {
          "output_type": "stream",
          "name": "stdout",
          "text": [
            "Requirement already satisfied: torch in /usr/local/lib/python3.10/dist-packages (2.5.1+cu121)\n",
            "Requirement already satisfied: torchvision in /usr/local/lib/python3.10/dist-packages (0.20.1+cu121)\n",
            "Requirement already satisfied: einops in /usr/local/lib/python3.10/dist-packages (0.8.0)\n",
            "Requirement already satisfied: matplotlib in /usr/local/lib/python3.10/dist-packages (3.8.0)\n",
            "Requirement already satisfied: tqdm in /usr/local/lib/python3.10/dist-packages (4.67.1)\n",
            "Requirement already satisfied: torchsummary in /usr/local/lib/python3.10/dist-packages (1.5.1)\n",
            "Requirement already satisfied: filelock in /usr/local/lib/python3.10/dist-packages (from torch) (3.16.1)\n",
            "Requirement already satisfied: typing-extensions>=4.8.0 in /usr/local/lib/python3.10/dist-packages (from torch) (4.12.2)\n",
            "Requirement already satisfied: networkx in /usr/local/lib/python3.10/dist-packages (from torch) (3.4.2)\n",
            "Requirement already satisfied: jinja2 in /usr/local/lib/python3.10/dist-packages (from torch) (3.1.4)\n",
            "Requirement already satisfied: fsspec in /usr/local/lib/python3.10/dist-packages (from torch) (2024.10.0)\n",
            "Requirement already satisfied: sympy==1.13.1 in /usr/local/lib/python3.10/dist-packages (from torch) (1.13.1)\n",
            "Requirement already satisfied: mpmath<1.4,>=1.1.0 in /usr/local/lib/python3.10/dist-packages (from sympy==1.13.1->torch) (1.3.0)\n",
            "Requirement already satisfied: numpy in /usr/local/lib/python3.10/dist-packages (from torchvision) (1.26.4)\n",
            "Requirement already satisfied: pillow!=8.3.*,>=5.3.0 in /usr/local/lib/python3.10/dist-packages (from torchvision) (11.0.0)\n",
            "Requirement already satisfied: contourpy>=1.0.1 in /usr/local/lib/python3.10/dist-packages (from matplotlib) (1.3.1)\n",
            "Requirement already satisfied: cycler>=0.10 in /usr/local/lib/python3.10/dist-packages (from matplotlib) (0.12.1)\n",
            "Requirement already satisfied: fonttools>=4.22.0 in /usr/local/lib/python3.10/dist-packages (from matplotlib) (4.55.3)\n",
            "Requirement already satisfied: kiwisolver>=1.0.1 in /usr/local/lib/python3.10/dist-packages (from matplotlib) (1.4.7)\n",
            "Requirement already satisfied: packaging>=20.0 in /usr/local/lib/python3.10/dist-packages (from matplotlib) (24.2)\n",
            "Requirement already satisfied: pyparsing>=2.3.1 in /usr/local/lib/python3.10/dist-packages (from matplotlib) (3.2.0)\n",
            "Requirement already satisfied: python-dateutil>=2.7 in /usr/local/lib/python3.10/dist-packages (from matplotlib) (2.8.2)\n",
            "Requirement already satisfied: six>=1.5 in /usr/local/lib/python3.10/dist-packages (from python-dateutil>=2.7->matplotlib) (1.17.0)\n",
            "Requirement already satisfied: MarkupSafe>=2.0 in /usr/local/lib/python3.10/dist-packages (from jinja2->torch) (3.0.2)\n"
          ]
        }
      ],
      "source": [
        "# Install required libraries\n",
        "!pip install torch torchvision einops matplotlib tqdm torchsummary"
      ]
    },
    {
      "cell_type": "code",
      "source": [
        "from google.colab import drive\n",
        "drive.mount('/content/drive')\n"
      ],
      "metadata": {
        "id": "U85nYHLUnKPJ"
      },
      "execution_count": null,
      "outputs": []
    },
    {
      "cell_type": "code",
      "source": [
        "import torch\n",
        "from torchvision import datasets, transforms\n",
        "from torch.utils.data import DataLoader\n",
        "import torch.optim as optim\n",
        "from tqdm import tqdm\n",
        "from torch import nn\n",
        "from einops import rearrange\n",
        "import matplotlib.pyplot as plt\n",
        "import os\n",
        "import matplotlib.pyplot as plt\n",
        "from torchsummary import summary\n",
        "from skimage.metrics import structural_similarity as ssim\n",
        "from skimage.metrics import peak_signal_noise_ratio as psnr\n",
        "import numpy as np\n",
        "from sklearn.manifold import TSNE\n",
        "from sklearn.decomposition import PCA"
      ],
      "metadata": {
        "id": "Mq7iN00u0vAX"
      },
      "execution_count": null,
      "outputs": []
    },
    {
      "cell_type": "code",
      "source": [
        "def get_transforms():\n",
        "    return transforms.Compose([\n",
        "        transforms.ToTensor(),\n",
        "    ])\n",
        "\n",
        "def get_mnist_dataloader(train=True):\n",
        "    dataset = datasets.MNIST(\n",
        "        root=\"./data\", train=train, download=True, transform=get_transforms()\n",
        "    )\n",
        "    dataloader = DataLoader(dataset, batch_size=Config.BATCH_SIZE, shuffle=train)\n",
        "    return dataloader"
      ],
      "metadata": {
        "id": "5TArfjzq0y2k"
      },
      "execution_count": null,
      "outputs": []
    },
    {
      "cell_type": "code",
      "source": [
        "class SelfAttention(nn.Module):\n",
        "    def __init__(self, in_channels):\n",
        "        super().__init__()\n",
        "        self.query = nn.Conv2d(in_channels, in_channels // Config.ATTENTION_DIM_REDUCTION, 1)\n",
        "        self.key = nn.Conv2d(in_channels, in_channels // Config.ATTENTION_DIM_REDUCTION, 1)\n",
        "        self.value = nn.Conv2d(in_channels, in_channels, 1)\n",
        "        self.gamma = nn.Parameter(torch.zeros(1))\n",
        "\n",
        "    def forward(self, x):\n",
        "        batch, channels, height, width = x.size()\n",
        "        query = self.query(x).view(batch, -1, height * width).permute(0, 2, 1)\n",
        "        key = self.key(x).view(batch, -1, height * width)\n",
        "        attention = torch.bmm(query, key)\n",
        "        attention = torch.softmax(attention, dim=-1)\n",
        "        value = self.value(x).view(batch, -1, height * width)\n",
        "        out = torch.bmm(value, attention.permute(0, 2, 1))\n",
        "        out = out.view(batch, channels, height, width)\n",
        "        return self.gamma * out + x\n"
      ],
      "metadata": {
        "id": "9O1fXXLKu32p"
      },
      "execution_count": null,
      "outputs": []
    },
    {
      "cell_type": "code",
      "source": [
        "class Encoder(nn.Module):\n",
        "    def __init__(self, latent_dim, channels):\n",
        "        super().__init__()\n",
        "        layers = []\n",
        "        for in_ch, out_ch in zip(channels[:-1], channels[1:]):\n",
        "            layers.append(nn.Conv2d(in_ch, out_ch, 3, stride=2, padding=1))\n",
        "            layers.append(nn.ReLU())\n",
        "            if out_ch in Config.ATTENTION_LAYERS:  # Add attention selectively\n",
        "                layers.append(SelfAttention(out_ch))\n",
        "        self.conv_layers = nn.Sequential(*layers)\n",
        "        self.flatten = nn.Sequential(\n",
        "            nn.Flatten(),\n",
        "            nn.Linear(channels[-1] * 7 * 7, latent_dim),\n",
        "        )\n",
        "\n",
        "    def forward(self, x):\n",
        "        x = self.conv_layers(x)\n",
        "        x = self.flatten(x)\n",
        "        return x\n",
        "\n",
        "\n",
        "class Decoder(nn.Module):\n",
        "    def __init__(self, latent_dim, channels):\n",
        "        super().__init__()\n",
        "        self.linear = nn.Linear(latent_dim, channels[0] * 7 * 7)\n",
        "        layers = []\n",
        "        for in_ch, out_ch in zip(channels[:-1], channels[1:]):\n",
        "            layers.append(nn.ConvTranspose2d(in_ch, out_ch, 4, stride=2, padding=1))\n",
        "            layers.append(nn.ReLU() if out_ch != 1 else nn.Sigmoid())\n",
        "            if out_ch in Config.ATTENTION_LAYERS:  # Add attention selectively\n",
        "                layers.append(SelfAttention(out_ch))\n",
        "        self.deconv_layers = nn.Sequential(*layers)\n",
        "\n",
        "    def forward(self, z):\n",
        "        x = self.linear(z)\n",
        "        x = rearrange(x, \"b (c h w) -> b c h w\", c=channels[0], h=7, w=7)\n",
        "        x = self.deconv_layers(x)\n",
        "        return x\n"
      ],
      "metadata": {
        "id": "6gU6yx4U00f8"
      },
      "execution_count": null,
      "outputs": []
    },
    {
      "cell_type": "code",
      "source": [
        "class Autoencoder(nn.Module):\n",
        "    def __init__(self, latent_dim=Config.LATENT_DIM):\n",
        "        super().__init__()\n",
        "        self.encoder = Encoder(latent_dim, Config.ENCODER_CHANNELS)\n",
        "        self.decoder = Decoder(latent_dim, Config.DECODER_CHANNELS)\n",
        "\n",
        "    def encode(self, x):\n",
        "        return self.encoder(x)\n",
        "\n",
        "    def decode(self, z):\n",
        "        return self.decoder(z)\n",
        "\n",
        "    def forward(self, x):\n",
        "        z = self.encoder(x)\n",
        "        return self.decoder(z)\n"
      ],
      "metadata": {
        "id": "PrNSR6wFo85x"
      },
      "execution_count": null,
      "outputs": []
    },
    {
      "cell_type": "code",
      "source": [
        "def train_autoencoder():\n",
        "    # Load data\n",
        "    train_loader = get_mnist_dataloader(train=True)\n",
        "\n",
        "    # Initialize model, loss, and optimizer\n",
        "    autoencoder = Autoencoder(latent_dim=Config.LATENT_DIM).to(Config.DEVICE)\n",
        "    summary(autoencoder, input_size=(1, Config.IMAGE_SIZE, Config.IMAGE_SIZE))\n",
        "    criterion = nn.MSELoss()\n",
        "    optimizer = optim.Adam(autoencoder.parameters(), lr=Config.LR)\n",
        "\n",
        "    loss_history = []\n",
        "    # Training loop\n",
        "    autoencoder.train()\n",
        "    for epoch in range(Config.EPOCHS):\n",
        "        epoch_loss = 0\n",
        "        pbar = tqdm(train_loader, desc=f\"Epoch {epoch + 1}/{Config.EPOCHS}\")\n",
        "        for images, _ in pbar:\n",
        "            images = images.to(Config.DEVICE)\n",
        "\n",
        "            # Forward pass\n",
        "            recon_images = autoencoder(images)\n",
        "            loss = criterion(recon_images, images)\n",
        "\n",
        "            # Backward pass\n",
        "            optimizer.zero_grad()\n",
        "            loss.backward()\n",
        "            optimizer.step()\n",
        "\n",
        "            # Track loss\n",
        "            epoch_loss += loss.item()\n",
        "            pbar.set_postfix({\"Loss\": f\"{loss.item():.4f}\"})\n",
        "\n",
        "        average_loss = epoch_loss / len(train_loader)\n",
        "        loss_history.append(average_loss)\n",
        "        print(f\"Epoch {epoch + 1}: Average Loss: {average_loss:.4f}\")\n",
        "\n",
        "    # Save the trained model\n",
        "    save_path = os.path.join(Config.SAVE_DIR, \"First_Autoencoder_with_Attention.pth\")\n",
        "    torch.save(autoencoder.state_dict(), save_path)\n",
        "    print(f\"Autoencoder training completed and model saved at: {save_path}\")\n",
        "\n",
        "    # Plot the loss curve\n",
        "    plt.figure(figsize=(8, 6))\n",
        "    plt.plot(range(1, Config.EPOCHS + 1), loss_history, marker='o', label='Training Loss')\n",
        "    plt.xlabel('Epochs')\n",
        "    plt.ylabel('Loss')\n",
        "    plt.title('Training Loss Curve')\n",
        "    plt.legend()\n",
        "    plt.grid(True)\n",
        "    plt.show()\n"
      ],
      "metadata": {
        "id": "JUI0RT9i03Qx"
      },
      "execution_count": null,
      "outputs": []
    },
    {
      "cell_type": "code",
      "source": [
        "def train_model(model, dataloader):\n",
        "    optimizer = torch.optim.Adam(model.parameters(), lr=Config.LR)\n",
        "    for epoch in range(Config.EPOCHS):\n",
        "        for images, _ in dataloader:\n",
        "            images = images.to(Config.DEVICE)\n",
        "            loss = model.training_step(images)\n",
        "            optimizer.zero_grad()\n",
        "            loss.backward()\n",
        "            optimizer.step()\n",
        "        print(f\"Epoch {epoch + 1}/{Config.EPOCHS}, Loss: {loss.item()}\")\n"
      ],
      "metadata": {
        "id": "ANH7C3ip09_M"
      },
      "execution_count": null,
      "outputs": []
    },
    {
      "cell_type": "code",
      "source": [
        "class Config:\n",
        "    DATASET_NAME = \"MNIST\"\n",
        "    IMAGE_SIZE = 28\n",
        "    LATENT_DIM = 64\n",
        "    SAVE_DIR = \"/content/drive/My Drive/AI/Projects/diffusion mnist/models\"\n",
        "    MODEL_NAME = \"First_Autoencoder_with_Attention.pth\"\n",
        "    BATCH_SIZE = 64\n",
        "    EPOCHS = 10\n",
        "    LR = 1e-4\n",
        "    DEVICE = torch.device(\"cuda\" if torch.cuda.is_available() else \"cpu\")\n",
        "\n",
        "\n",
        "    # Encoder/Decoder Configurations\n",
        "    ENCODER_CHANNELS = [1, 16, 32]  # Input -> Intermediate -> Latent\n",
        "    DECODER_CHANNELS = [32, 16, 1]  # Latent -> Intermediate -> Output\n",
        "    ATTENTION_DIM_REDUCTION = 8    # Self-attention channel reduction factor"
      ],
      "metadata": {
        "id": "c4mwK7RAcUUA"
      },
      "execution_count": null,
      "outputs": []
    },
    {
      "cell_type": "code",
      "source": [
        "os.makedirs(Config.SAVE_DIR, exist_ok=True)"
      ],
      "metadata": {
        "id": "DBBdQUYsnbAm"
      },
      "execution_count": null,
      "outputs": []
    },
    {
      "cell_type": "code",
      "source": [
        "train_autoencoder()\n"
      ],
      "metadata": {
        "colab": {
          "base_uri": "https://localhost:8080/",
          "height": 1000
        },
        "id": "HmM58VyIchfR",
        "outputId": "394ff5ec-1b46-4130-8bde-7079e90d3c37"
      },
      "execution_count": null,
      "outputs": [
        {
          "output_type": "stream",
          "name": "stdout",
          "text": [
            "----------------------------------------------------------------\n",
            "        Layer (type)               Output Shape         Param #\n",
            "================================================================\n",
            "            Conv2d-1           [-1, 16, 14, 14]             160\n",
            "              ReLU-2           [-1, 16, 14, 14]               0\n",
            "            Conv2d-3            [-1, 2, 14, 14]              34\n",
            "            Conv2d-4            [-1, 2, 14, 14]              34\n",
            "            Conv2d-5           [-1, 16, 14, 14]             272\n",
            "     SelfAttention-6           [-1, 16, 14, 14]               0\n",
            "            Conv2d-7             [-1, 32, 7, 7]           4,640\n",
            "              ReLU-8             [-1, 32, 7, 7]               0\n",
            "            Conv2d-9              [-1, 4, 7, 7]             132\n",
            "           Conv2d-10              [-1, 4, 7, 7]             132\n",
            "           Conv2d-11             [-1, 32, 7, 7]           1,056\n",
            "    SelfAttention-12             [-1, 32, 7, 7]               0\n",
            "          Flatten-13                 [-1, 1568]               0\n",
            "           Linear-14                   [-1, 64]         100,416\n",
            "          Encoder-15                   [-1, 64]               0\n",
            "           Linear-16                 [-1, 1568]         101,920\n",
            "  ConvTranspose2d-17           [-1, 16, 14, 14]           8,208\n",
            "             ReLU-18           [-1, 16, 14, 14]               0\n",
            "           Conv2d-19            [-1, 2, 14, 14]              34\n",
            "           Conv2d-20            [-1, 2, 14, 14]              34\n",
            "           Conv2d-21           [-1, 16, 14, 14]             272\n",
            "    SelfAttention-22           [-1, 16, 14, 14]               0\n",
            "  ConvTranspose2d-23            [-1, 1, 28, 28]             257\n",
            "          Sigmoid-24            [-1, 1, 28, 28]               0\n",
            "          Decoder-25            [-1, 1, 28, 28]               0\n",
            "================================================================\n",
            "Total params: 217,601\n",
            "Trainable params: 217,601\n",
            "Non-trainable params: 0\n",
            "----------------------------------------------------------------\n",
            "Input size (MB): 0.00\n",
            "Forward/backward pass size (MB): 0.30\n",
            "Params size (MB): 0.83\n",
            "Estimated Total Size (MB): 1.13\n",
            "----------------------------------------------------------------\n"
          ]
        },
        {
          "output_type": "stream",
          "name": "stderr",
          "text": [
            "Epoch 1/10: 100%|██████████| 938/938 [00:18<00:00, 51.56it/s, Loss=0.0391]\n"
          ]
        },
        {
          "output_type": "stream",
          "name": "stdout",
          "text": [
            "Epoch 1: Average Loss: 0.0718\n"
          ]
        },
        {
          "output_type": "stream",
          "name": "stderr",
          "text": [
            "Epoch 2/10: 100%|██████████| 938/938 [00:17<00:00, 53.89it/s, Loss=0.0178]\n"
          ]
        },
        {
          "output_type": "stream",
          "name": "stdout",
          "text": [
            "Epoch 2: Average Loss: 0.0241\n"
          ]
        },
        {
          "output_type": "stream",
          "name": "stderr",
          "text": [
            "Epoch 3/10: 100%|██████████| 938/938 [00:18<00:00, 52.09it/s, Loss=0.0130]\n"
          ]
        },
        {
          "output_type": "stream",
          "name": "stdout",
          "text": [
            "Epoch 3: Average Loss: 0.0155\n"
          ]
        },
        {
          "output_type": "stream",
          "name": "stderr",
          "text": [
            "Epoch 4/10: 100%|██████████| 938/938 [00:17<00:00, 53.91it/s, Loss=0.0108]\n"
          ]
        },
        {
          "output_type": "stream",
          "name": "stdout",
          "text": [
            "Epoch 4: Average Loss: 0.0122\n"
          ]
        },
        {
          "output_type": "stream",
          "name": "stderr",
          "text": [
            "Epoch 5/10: 100%|██████████| 938/938 [00:17<00:00, 53.71it/s, Loss=0.0097]\n"
          ]
        },
        {
          "output_type": "stream",
          "name": "stdout",
          "text": [
            "Epoch 5: Average Loss: 0.0103\n"
          ]
        },
        {
          "output_type": "stream",
          "name": "stderr",
          "text": [
            "Epoch 6/10: 100%|██████████| 938/938 [00:17<00:00, 53.75it/s, Loss=0.0086]\n"
          ]
        },
        {
          "output_type": "stream",
          "name": "stdout",
          "text": [
            "Epoch 6: Average Loss: 0.0091\n"
          ]
        },
        {
          "output_type": "stream",
          "name": "stderr",
          "text": [
            "Epoch 7/10: 100%|██████████| 938/938 [00:17<00:00, 52.14it/s, Loss=0.0083]\n"
          ]
        },
        {
          "output_type": "stream",
          "name": "stdout",
          "text": [
            "Epoch 7: Average Loss: 0.0082\n"
          ]
        },
        {
          "output_type": "stream",
          "name": "stderr",
          "text": [
            "Epoch 8/10: 100%|██████████| 938/938 [00:17<00:00, 54.04it/s, Loss=0.0063]\n"
          ]
        },
        {
          "output_type": "stream",
          "name": "stdout",
          "text": [
            "Epoch 8: Average Loss: 0.0076\n"
          ]
        },
        {
          "output_type": "stream",
          "name": "stderr",
          "text": [
            "Epoch 9/10: 100%|██████████| 938/938 [00:17<00:00, 54.31it/s, Loss=0.0059]\n"
          ]
        },
        {
          "output_type": "stream",
          "name": "stdout",
          "text": [
            "Epoch 9: Average Loss: 0.0072\n"
          ]
        },
        {
          "output_type": "stream",
          "name": "stderr",
          "text": [
            "Epoch 10/10: 100%|██████████| 938/938 [00:17<00:00, 53.75it/s, Loss=0.0077]\n"
          ]
        },
        {
          "output_type": "stream",
          "name": "stdout",
          "text": [
            "Epoch 10: Average Loss: 0.0068\n",
            "Autoencoder training completed and model saved at: /content/drive/My Drive/AI/Projects/diffusion mnist/models/First_Autoencoder_with_Attention.pth\n"
          ]
        },
        {
          "output_type": "display_data",
          "data": {
            "text/plain": [
              "<Figure size 800x600 with 1 Axes>"
            ],
            "image/png": "[encoded data removed]"
          },
          "metadata": {}
        }
      ]
    },
    {
      "cell_type": "code",
      "source": [
        "def calculate_metrics(original, reconstructed):\n",
        "    original = original.cpu().numpy()\n",
        "    reconstructed = reconstructed.cpu().numpy()\n",
        "    ssim_scores = []\n",
        "    psnr_scores = []\n",
        "\n",
        "    for i in range(original.shape[0]):\n",
        "        original_img = original[i, 0]\n",
        "        reconstructed_img = reconstructed[i, 0]\n",
        "\n",
        "        ssim_score = ssim(original_img, reconstructed_img, data_range=original_img.max() - original_img.min())\n",
        "        psnr_score = psnr(original_img, reconstructed_img, data_range=original_img.max() - original_img.min())\n",
        "\n",
        "        ssim_scores.append(ssim_score)\n",
        "        psnr_scores.append(psnr_score)\n",
        "\n",
        "    return np.mean(ssim_scores), np.mean(psnr_scores)"
      ],
      "metadata": {
        "id": "9E9lmGhJf0oH"
      },
      "execution_count": null,
      "outputs": []
    },
    {
      "cell_type": "code",
      "source": [
        "def visualize_reconstructions():\n",
        "    # Load the model\n",
        "    autoencoder = Autoencoder(latent_dim=Config.LATENT_DIM).to(Config.DEVICE)\n",
        "    load_path = os.path.join(Config.SAVE_DIR, Config.MODEL_NAME)\n",
        "    autoencoder.load_state_dict(torch.load(load_path, map_location=Config.DEVICE))\n",
        "    autoencoder.eval()\n",
        "\n",
        "    # Get test data\n",
        "    test_loader = get_mnist_dataloader(train=False)\n",
        "    images, _ = next(iter(test_loader))\n",
        "    images = images.to(Config.DEVICE)\n",
        "\n",
        "    # Reconstruct\n",
        "    with torch.no_grad():\n",
        "        recon_images = autoencoder(images)\n",
        "\n",
        "    # Calculate metrics\n",
        "    avg_ssim, avg_psnr = calculate_metrics(images, recon_images)\n",
        "    print(f\"Average SSIM: {avg_ssim:.4f}, Average PSNR: {avg_psnr:.2f}\")\n",
        "\n",
        "    # Visualization\n",
        "    num_images = 10\n",
        "    fig, axes = plt.subplots(2, num_images, figsize=(18, 6))\n",
        "    fig.suptitle(f\"SSIM: {avg_ssim:.4f}, PSNR: {avg_psnr:.2f}\", fontsize=16, y=0.92)\n",
        "\n",
        "    for i in range(num_images):\n",
        "        original_img = images[i][0].cpu().numpy()\n",
        "        reconstructed_img = recon_images[i][0].cpu().numpy()\n",
        "\n",
        "        # Original images\n",
        "        axes[0, i].imshow(original_img, cmap=\"gray\")\n",
        "        ssim_score = ssim(original_img, reconstructed_img, data_range=1.0)\n",
        "        axes[0, i].set_title(f\"Original\", fontsize=10)\n",
        "        axes[0, i].axis(\"off\")\n",
        "\n",
        "        # Reconstructed images\n",
        "        axes[1, i].imshow(reconstructed_img, cmap=\"gray\")\n",
        "        axes[1, i].set_title(f\"Reconstructed\\nSSIM: {ssim_score:.2f}\", fontsize=10)\n",
        "        axes[1, i].axis(\"off\")\n",
        "\n",
        "    # plt.tight_layout(rect=[0, 0, 1, 1])\n",
        "    plt.show()\n"
      ],
      "metadata": {
        "id": "_Go3DRZH04g3"
      },
      "execution_count": null,
      "outputs": []
    },
    {
      "cell_type": "code",
      "source": [
        "visualize_reconstructions()\n"
      ],
      "metadata": {
        "colab": {
          "base_uri": "https://localhost:8080/",
          "height": 295
        },
        "id": "EvKQc7GLcyrG",
        "outputId": "81f4ccec-7bcd-47c8-d36f-3da32edc1213"
      },
      "execution_count": null,
      "outputs": [
        {
          "output_type": "stream",
          "name": "stderr",
          "text": [
            "<ipython-input-53-d7b8f594bd62>:5: FutureWarning: You are using `torch.load` with `weights_only=False` (the current default value), which uses the default pickle module implicitly. It is possible to construct malicious pickle data which will execute arbitrary code during unpickling (See https://github.com/pytorch/pytorch/blob/main/SECURITY.md#untrusted-models for more details). In a future release, the default value for `weights_only` will be flipped to `True`. This limits the functions that could be executed during unpickling. Arbitrary objects will no longer be allowed to be loaded via this mode unless they are explicitly allowlisted by the user via `torch.serialization.add_safe_globals`. We recommend you start setting `weights_only=True` for any use case where you don't have full control of the loaded file. Please open an issue on GitHub for any issues related to this experimental feature.\n",
            "  autoencoder.load_state_dict(torch.load(load_path, map_location=Config.DEVICE))\n"
          ]
        },
        {
          "output_type": "stream",
          "name": "stdout",
          "text": [
            "Average SSIM: 0.9338, Average PSNR: 22.88\n"
          ]
        },
        {
          "output_type": "display_data",
          "data": {
            "text/plain": [
              "<Figure size 1800x600 with 20 Axes>"
            ],
            "image/png": "[encoded data removed]"
          },
          "metadata": {}
        }
      ]
    },
    {
      "cell_type": "code",
      "source": [
        "def visualize_latent_space():\n",
        "    autoencoder = Autoencoder(latent_dim=Config.LATENT_DIM, image_size=Config.IMAGE_SIZE).to(Config.DEVICE)\n",
        "    autoencoder.load_state_dict(torch.load(\"autoencoder.pth\"))\n",
        "    autoencoder.eval()\n",
        "\n",
        "    test_loader = get_mnist_dataloader(train=False)\n",
        "    images, labels = next(iter(test_loader))\n",
        "    images = images.to(Config.DEVICE)\n",
        "\n",
        "    with torch.no_grad():\n",
        "        latents = autoencoder.encode(images).cpu().numpy()\n",
        "\n",
        "    # Use PCA or t-SNE for visualization\n",
        "    tsne = TSNE(n_components=2, random_state=42)\n",
        "    latents_2d = tsne.fit_transform(latents)\n",
        "\n",
        "    plt.figure(figsize=(8, 6))\n",
        "    scatter = plt.scatter(latents_2d[:, 0], latents_2d[:, 1], c=labels, cmap=\"tab10\", s=10)\n",
        "    plt.colorbar(scatter, label=\"Digit Label\")\n",
        "    plt.title(\"Latent Space Visualization\")\n",
        "    plt.xlabel(\"Dimension 1\")\n",
        "    plt.ylabel(\"Dimension 2\")\n",
        "    plt.show()\n"
      ],
      "metadata": {
        "id": "607AD91cdFgS"
      },
      "execution_count": null,
      "outputs": []
    }
  ]
}